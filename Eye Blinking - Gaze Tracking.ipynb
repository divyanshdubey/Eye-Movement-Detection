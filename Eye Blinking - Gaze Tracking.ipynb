{
 "cells": [
  {
   "cell_type": "code",
   "execution_count": 1,
   "id": "496b42bd",
   "metadata": {},
   "outputs": [],
   "source": [
    "import cv2\n",
    "from gaze_tracking import GazeTracking\n",
    "\n",
    "gaze = GazeTracking()\n"
   ]
  },
  {
   "cell_type": "code",
   "execution_count": 3,
   "id": "4a45d60c",
   "metadata": {},
   "outputs": [],
   "source": [
    "# webcam = cv2.VideoCapture(0)\n",
    "webcam = cv2.VideoCapture(\"rec.mp4\")\n",
    "\n",
    "while True:\n",
    "    _, frame = webcam.read()\n",
    "    gaze.refresh(frame)\n",
    "\n",
    "    new_frame = gaze.annotated_frame()\n",
    "    text = \"\"\n",
    "\n",
    "    if gaze.is_right():\n",
    "        text = \"Looking right\"\n",
    "    elif gaze.is_left():\n",
    "        text = \"Looking left\"\n",
    "    elif gaze.is_center():\n",
    "        text = \"Looking center\"\n",
    "\n",
    "    cv2.putText(new_frame, text, (60, 60), cv2.FONT_HERSHEY_DUPLEX, 1, (255, 0, 0), 2)\n",
    "    \n",
    "    \n",
    "    if gaze.is_upward():\n",
    "        text = \"Looking Upward\"\n",
    "    elif gaze.is_downward():\n",
    "        text = \"Looking Downward\"\n",
    "    else:\n",
    "        text = \"Looking Straight\"\n",
    "\n",
    "    cv2.putText(new_frame, text, (60, 100), cv2.FONT_HERSHEY_DUPLEX, 1, (255, 0, 0), 2)\n",
    "    \n",
    "    \n",
    "    \n",
    "    cv2.imshow(\"Demo\", new_frame)\n",
    "\n",
    "    key = cv2.waitKey(1)\n",
    "    #  We use cv2.waitKey()to detect key press.\n",
    "    \n",
    "    if(key == 27): #27 is the key code for the escape key. We stop capturing the frames once the escape key is pressed\n",
    "        break\n",
    "    \n",
    "    \n",
    "    \n",
    "# Now as we are exiting the while loop, we need to close capturing the video.\n",
    "\n",
    "webcam.release() # release software resource; release hardware resource. \n",
    "cv2.destroyAllWindows() # closes all of the imshow() windows.\n"
   ]
  },
  {
   "cell_type": "code",
   "execution_count": null,
   "id": "fefe14f8",
   "metadata": {},
   "outputs": [],
   "source": []
  }
 ],
 "metadata": {
  "kernelspec": {
   "display_name": "Python 3 (ipykernel)",
   "language": "python",
   "name": "python3"
  },
  "language_info": {
   "codemirror_mode": {
    "name": "ipython",
    "version": 3
   },
   "file_extension": ".py",
   "mimetype": "text/x-python",
   "name": "python",
   "nbconvert_exporter": "python",
   "pygments_lexer": "ipython3",
   "version": "3.8.8"
  }
 },
 "nbformat": 4,
 "nbformat_minor": 5
}
